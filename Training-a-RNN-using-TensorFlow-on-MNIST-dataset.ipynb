{
 "cells": [
  {
   "cell_type": "code",
   "execution_count": null,
   "metadata": {},
   "outputs": [
    {
     "name": "stdout",
     "output_type": "stream",
     "text": [
      "Extracting data/train-images-idx3-ubyte.gz\n",
      "Extracting data/train-labels-idx1-ubyte.gz\n",
      "Extracting data/t10k-images-idx3-ubyte.gz\n",
      "Extracting data/t10k-labels-idx1-ubyte.gz\n",
      "0 Train accuracy: 0.946667 Test accuracy: 0.9161\n",
      "1 Train accuracy: 0.986667 Test accuracy: 0.9542\n"
     ]
    }
   ],
   "source": [
    "# Coder_Hussam Qassim\n",
    "\n",
    "# Import the necessary libraries \n",
    "import tensorflow as tf \n",
    "from tensorflow.contrib.layers import fully_connected\n",
    "import numpy as np \n",
    "from tensorflow.examples.tutorials.mnist import input_data\n",
    "\n",
    "# Define the RNN parameters\n",
    "n_steps = 28\n",
    "n_inputs = 28\n",
    "n_neurons = 150\n",
    "n_outputs = 10\n",
    "\n",
    "# Create the inpute and lable data \n",
    "x = tf.placeholder(tf.float32, [None, n_steps, n_inputs])\n",
    "y = tf.placeholder(tf.int32, [None])\n",
    "\n",
    "# Create the graph on 1 input layer and 2 hidden layers and one output layer \n",
    "with tf.name_scope(\"RNN\"):\n",
    "    basic_cell = tf.contrib.rnn.BasicRNNCell(num_units=n_neurons)\n",
    "    outputs, states = tf.nn.dynamic_rnn(basic_cell, x, dtype=tf.float32)\n",
    "    logits = fully_connected(states, n_outputs, activation_fn=None)\n",
    "    \n",
    "# Create the cost function     \n",
    "with tf.name_scope(\"loss\"):\n",
    "    xentropy = tf.nn.sparse_softmax_cross_entropy_with_logits(labels=y, logits=logits)\n",
    "    loss = tf.reduce_mean(xentropy, name=\"loss\")\n",
    "\n",
    "# Craete the optimizer \n",
    "learning_rate = 0.001\n",
    "with tf.name_scope(\"train\"):\n",
    "    optimizer = tf.train.AdamOptimizer(learning_rate=learning_rate)\n",
    "    training_op\t= optimizer.minimize(loss)\n",
    "    \n",
    "# Evaluate the NN     \n",
    "with tf.name_scope(\"eval\"):\n",
    "    correct = tf.nn.in_top_k(logits, y, 1)\n",
    "    accuracy = tf.reduce_mean(tf.cast(correct, tf.float32))\n",
    "    \n",
    "# Initialize the variables     \n",
    "init = tf.global_variables_initializer()\n",
    "\n",
    "# Initialize the saver for save the model\n",
    "saver = tf.train.Saver()\n",
    "\n",
    "# Fetch the data \n",
    "mnist = input_data.read_data_sets(\"data/\")\n",
    "x_test = mnist.test.images.reshape((-1, n_steps, n_inputs))\n",
    "y_test = mnist.test.labels\n",
    "\n",
    "# define the number of the epochs and the size of the batch\n",
    "n_epochs = 100\n",
    "batch_size = 150\n",
    "\n",
    "with tf.Session() as sess:\n",
    "    init.run()\n",
    "    for epoch in range(n_epochs):\n",
    "        for iteration in range(mnist.train.num_examples // batch_size):\n",
    "            x_batch, y_batch = mnist.train.next_batch(batch_size)\n",
    "            x_batch = x_batch.reshape((-1, n_steps, n_inputs))\n",
    "            sess.run(training_op, feed_dict={x: x_batch, y: y_batch})\n",
    "        acc_train = accuracy.eval(feed_dict={x: x_batch, y: y_batch})\n",
    "        acc_test = accuracy.eval(feed_dict={x: x_test, y: y_test })\n",
    "        print(epoch, \"Train accuracy:\", acc_train, \"Test accuracy:\", acc_test)\n",
    "    save_path = saver.save(sess, \"data/my_model_final.ckpt\")"
   ]
  },
  {
   "cell_type": "code",
   "execution_count": null,
   "metadata": {
    "collapsed": true
   },
   "outputs": [],
   "source": [
    "# Using the Neural Network\n",
    "with tf.Session() as sess:\n",
    "    saver.restore(sess,\t\"data/my_model_final.ckpt\")\n",
    "    x_new_scaled = [...] # some new images (scaled from 0 to 1)\n",
    "    z = logits.eval(feed_dict={x: x_new_scaled})\n",
    "    y_pred = np.argmax(z, axis=1)"
   ]
  },
  {
   "cell_type": "code",
   "execution_count": null,
   "metadata": {
    "collapsed": true
   },
   "outputs": [],
   "source": []
  }
 ],
 "metadata": {
  "kernelspec": {
   "display_name": "Python 3",
   "language": "python",
   "name": "python3"
  },
  "language_info": {
   "codemirror_mode": {
    "name": "ipython",
    "version": 3
   },
   "file_extension": ".py",
   "mimetype": "text/x-python",
   "name": "python",
   "nbconvert_exporter": "python",
   "pygments_lexer": "ipython3",
   "version": "3.6.1"
  }
 },
 "nbformat": 4,
 "nbformat_minor": 2
}
